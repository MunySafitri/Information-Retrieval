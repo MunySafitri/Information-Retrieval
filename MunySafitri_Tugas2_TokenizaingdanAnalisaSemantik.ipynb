{
  "nbformat": 4,
  "nbformat_minor": 0,
  "metadata": {
    "colab": {
      "provenance": [],
      "authorship_tag": "ABX9TyMzDr3Q+YQUfw825fmmIXks",
      "include_colab_link": true
    },
    "kernelspec": {
      "name": "python3",
      "display_name": "Python 3"
    },
    "language_info": {
      "name": "python"
    }
  },
  "cells": [
    {
      "cell_type": "markdown",
      "metadata": {
        "id": "view-in-github",
        "colab_type": "text"
      },
      "source": [
        "<a href=\"https://colab.research.google.com/github/MunySafitri/Information-Retrieval/blob/master/MunySafitri_Tugas2_TokenizaingdanAnalisaSemantik.ipynb\" target=\"_parent\"><img src=\"https://colab.research.google.com/assets/colab-badge.svg\" alt=\"Open In Colab\"/></a>"
      ]
    },
    {
      "cell_type": "code",
      "source": [
        "#menghilangkan karakter dan whitespace serta mengescilkan huruf\n",
        "import re #modul regular expression\n",
        "import string\n",
        "# kalimat = \"Saya ingin melihat semua nama mahasiswa UGM\"\n",
        "# kalimat = \"Saya ingin menjumlah semua nilai mata kuliah mahasiswa yang bernama Muny Safitri\"\n",
        "kalimat = \"Saya ingin melihat nama mahasiswa UGM yang IPK mahasiswanya 3.85\"\n",
        "# kalimat = \"Saya ingin melihat nama dan NIM mahasiswa di prodi = TI dan status = Aktif\"\n",
        "# kalimat = \"Saya ingin mencari semua nilai mahasiswa pada matakuliah NLP kelas A\"\n",
        "\n",
        "lower_case = kalimat.lower()\n",
        "# lower_case = re.sub(r\"\\d+\",\"\",lower_case)#menghilangkan angka\n",
        "\n",
        "#menghilangkan karakter dan white space\n",
        "lower_case =lower_case.translate(str.maketrans(\"\",\"\",string.punctuation)).strip()\n",
        "print(lower_case)"
      ],
      "metadata": {
        "colab": {
          "base_uri": "https://localhost:8080/"
        },
        "id": "4izCuBkOtAi6",
        "outputId": "4298839e-f554-4168-9c83-91581276a35c"
      },
      "execution_count": 13,
      "outputs": [
        {
          "output_type": "stream",
          "name": "stdout",
          "text": [
            "saya ingin melihat nama mahasiswa ugm yang ipk mahasiswanya 385\n"
          ]
        }
      ]
    },
    {
      "cell_type": "code",
      "source": [
        "pip install Sastrawi"
      ],
      "metadata": {
        "colab": {
          "base_uri": "https://localhost:8080/"
        },
        "id": "bo5623WBvY27",
        "outputId": "3b89ced2-63ad-4669-bbe1-c466b20c0241"
      },
      "execution_count": 15,
      "outputs": [
        {
          "output_type": "stream",
          "name": "stdout",
          "text": [
            "Looking in indexes: https://pypi.org/simple, https://us-python.pkg.dev/colab-wheels/public/simple/\n",
            "Collecting Sastrawi\n",
            "  Downloading Sastrawi-1.0.1-py2.py3-none-any.whl (209 kB)\n",
            "\u001b[K     |████████████████████████████████| 209 kB 8.3 MB/s \n",
            "\u001b[?25hInstalling collected packages: Sastrawi\n",
            "Successfully installed Sastrawi-1.0.1\n"
          ]
        }
      ]
    },
    {
      "cell_type": "code",
      "source": [
        "#melakukan teknik stemming\n",
        "from Sastrawi.Stemmer.StemmerFactory import StemmerFactory\n",
        "#membuat stemmer\n",
        "factory = StemmerFactory()\n",
        "stemmer = factory.create_stemmer()\n",
        "#kata imbuhan akan dihpus dan diambil kata dasarnya\n",
        "output = stemmer.stem(kalimat)\n",
        "print(output)"
      ],
      "metadata": {
        "colab": {
          "base_uri": "https://localhost:8080/"
        },
        "id": "6P_azAdZvOcS",
        "outputId": "4fb87322-4c0c-4c27-dca6-4a5c331ee5df"
      },
      "execution_count": 17,
      "outputs": [
        {
          "output_type": "stream",
          "name": "stdout",
          "text": [
            "saya ingin lihat nama mahasiswa ugm yang ipk mahasiswa 3 85\n"
          ]
        }
      ]
    },
    {
      "cell_type": "code",
      "execution_count": null,
      "metadata": {
        "id": "us1i837KsVvr"
      },
      "outputs": [],
      "source": [
        "import nltk\n",
        "nltk.download(\"book\") "
      ]
    },
    {
      "cell_type": "code",
      "source": [
        "#tokenizing\n",
        "from nltk.tokenize import word_tokenize \n",
        "tokens = nltk.tokenize.word_tokenize(output)\n",
        "print(tokens)"
      ],
      "metadata": {
        "colab": {
          "base_uri": "https://localhost:8080/"
        },
        "id": "Wvdnz1vtto3F",
        "outputId": "21ceef67-7c9b-4254-9752-971ee805409e"
      },
      "execution_count": 18,
      "outputs": [
        {
          "output_type": "stream",
          "name": "stdout",
          "text": [
            "['saya', 'ingin', 'lihat', 'nama', 'mahasiswa', 'ugm', 'yang', 'ipk', 'mahasiswa', '3', '85']\n"
          ]
        }
      ]
    },
    {
      "cell_type": "code",
      "source": [
        "#remove stopword\n",
        "from nltk.tokenize import sent_tokenize, word_tokenize\n",
        "from nltk.corpus import stopwords\n",
        "\n",
        "print(output)\n",
        "tokens = word_tokenize(output)\n",
        "listStopword = set(stopwords.words('indonesian'))\n",
        "\n",
        "removed = []\n",
        "for t in tokens:\n",
        "  if t not in listStopword:\n",
        "    removed.append(t)\n",
        "\n",
        "print(removed)"
      ],
      "metadata": {
        "colab": {
          "base_uri": "https://localhost:8080/"
        },
        "id": "jlPJ6M1itCVq",
        "outputId": "0f560c7d-2d87-422e-e342-f8fb26376202"
      },
      "execution_count": 19,
      "outputs": [
        {
          "output_type": "stream",
          "name": "stdout",
          "text": [
            "saya ingin lihat nama mahasiswa ugm yang ipk mahasiswa 3 85\n",
            "['lihat', 'nama', 'mahasiswa', 'ugm', 'ipk', 'mahasiswa', '3', '85']\n"
          ]
        }
      ]
    }
  ]
}